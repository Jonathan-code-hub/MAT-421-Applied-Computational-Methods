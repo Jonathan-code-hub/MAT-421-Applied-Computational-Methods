{
  "nbformat": 4,
  "nbformat_minor": 0,
  "metadata": {
    "colab": {
      "provenance": []
    },
    "kernelspec": {
      "name": "python3",
      "display_name": "Python 3"
    },
    "language_info": {
      "name": "python"
    }
  },
  "cells": [
    {
      "cell_type": "markdown",
      "source": [
        "# All Problems Taken from the Probelms section in chapter 9 of *Python Programming and Numerical Methods*\n",
        "By: Qingkai Kong, Timmy Siauw, Alexandre Bayen"
      ],
      "metadata": {
        "id": "Lw0xXljYVpiC"
      }
    },
    {
      "cell_type": "markdown",
      "source": [
        "Problem 1"
      ],
      "metadata": {
        "id": "UkgSxoOH9PMb"
      }
    },
    {
      "cell_type": "code",
      "source": [
        "def my_bin_2dec(b):\n",
        "  n = len(b) - 1\n",
        "  d = 0\n",
        "  for x in b:\n",
        "    d += x*(2**n)\n",
        "    n = n - 1\n",
        "  return d\n",
        "\n",
        "# Testing #\n",
        "print(my_bin_2dec([1,1,0]))\n",
        "\n",
        "## Test Cases ##\n",
        "# Expected Output = 7 #\n",
        "print(\"1.\",my_bin_2dec([1,1,1]))\n",
        "\n",
        "# Expected Output = 85 #\n",
        "print(\"2.\",my_bin_2dec([1,0,1,0,1,0,1]))\n",
        "\n",
        "# Expected Output = 33554431 #\n",
        "print(\"3.\",my_bin_2dec([1]*25))\n",
        "\n"
      ],
      "metadata": {
        "colab": {
          "base_uri": "https://localhost:8080/"
        },
        "id": "gwC2vaic7-gq",
        "outputId": "78baa67c-cd85-49f5-98d7-61ae45cab78f"
      },
      "execution_count": 86,
      "outputs": [
        {
          "output_type": "stream",
          "name": "stdout",
          "text": [
            "6\n",
            "1. 7\n",
            "2. 85\n",
            "3. 33554431\n"
          ]
        }
      ]
    },
    {
      "cell_type": "markdown",
      "source": [
        "Problem 2"
      ],
      "metadata": {
        "id": "kVAF8X0N9TF4"
      }
    },
    {
      "cell_type": "code",
      "source": [
        "import math\n",
        "def my_dec_2_bin(d):\n",
        "    b = []\n",
        "    try:\n",
        "      n = math.floor(math.log(d,2))\n",
        "    except:\n",
        "      return [0]\n",
        "    while n >= 0:\n",
        "      if (d - (2**n)) >= 0:\n",
        "        b.append(1)\n",
        "        d = d - (2**n)\n",
        "      else:\n",
        "        b.append(0)\n",
        "      n = n - 1\n",
        "    return b\n",
        "\n",
        "# Testing #\n",
        "print(my_dec_2_bin(284))\n",
        "\n",
        "## Test Cases ##\n",
        "# 1. Expected Output = [0] #\n",
        "print(\"1.\",my_dec_2_bin(0))\n",
        "\n",
        "# 2. Expected Output = [1, 0, 1, 1, 1] #\n",
        "print(\"2.\",my_dec_2_bin(23))\n",
        "\n",
        "# 3. Expected Output = [1, 0, 0, 0, 0, 0, 1, 1, 0, 0, 0, 1] #\n",
        "print(\"3.\",my_dec_2_bin(2097))"
      ],
      "metadata": {
        "colab": {
          "base_uri": "https://localhost:8080/"
        },
        "id": "OinfCQSh9TWw",
        "outputId": "970bed1e-4232-4230-8a09-0f1124f80476"
      },
      "execution_count": 80,
      "outputs": [
        {
          "output_type": "stream",
          "name": "stdout",
          "text": [
            "[1, 0, 0, 0, 1, 1, 1, 0, 0]\n",
            "1. [0]\n",
            "2. [1, 0, 1, 1, 1]\n",
            "3. [1, 0, 0, 0, 0, 0, 1, 1, 0, 0, 0, 1]\n"
          ]
        }
      ]
    },
    {
      "cell_type": "markdown",
      "source": [
        "Problem 3"
      ],
      "metadata": {
        "id": "OpgdncPI9ayH"
      }
    },
    {
      "cell_type": "code",
      "source": [
        "import math\n",
        "\n",
        "def my_dec_2_bin(d):\n",
        "    b = []\n",
        "    try:\n",
        "      n = math.floor(math.log(d,2))\n",
        "    except:\n",
        "      return [0]\n",
        "    while n >= 0:\n",
        "      if (d - (2**n)) >= 0:\n",
        "        b.append(1)\n",
        "        d = d - (2**n)\n",
        "      else:\n",
        "        b.append(0)\n",
        "      n = n - 1\n",
        "    return b\n",
        "\n",
        "def my_bin_2dec(b):\n",
        "  n = len(b) - 1\n",
        "  d = 0\n",
        "  for x in b:\n",
        "    d += x*(2**n)\n",
        "    n = n - 1\n",
        "  return d\n",
        "\n",
        "# Testing #\n",
        "\n",
        "print(my_dec_2_bin(my_bin_2dec([1,0,1,0,0,1])))\n",
        "\n",
        "print(my_bin_2dec(my_dec_2_bin(32)))\n",
        "\n",
        "print(my_dec_2_bin(my_bin_2dec(my_dec_2_bin(my_bin_2dec([1,0,1,0,0,1])))))\n",
        "\n",
        "print(my_bin_2dec(my_dec_2_bin(my_bin_2dec(my_dec_2_bin(32)))))\n"
      ],
      "metadata": {
        "colab": {
          "base_uri": "https://localhost:8080/"
        },
        "id": "1mNf_vAj9Tpm",
        "outputId": "818696db-6909-4a16-e65a-b76882d1aa09"
      },
      "execution_count": 93,
      "outputs": [
        {
          "output_type": "stream",
          "name": "stdout",
          "text": [
            "[1, 0, 1, 0, 0, 1]\n",
            "32\n",
            "[1, 0, 1, 0, 0, 1]\n",
            "32\n"
          ]
        }
      ]
    },
    {
      "cell_type": "markdown",
      "source": [
        "Problem 4"
      ],
      "metadata": {
        "id": "AlA8bF9Z9c94"
      }
    },
    {
      "cell_type": "code",
      "source": [
        "import numpy as np\n",
        "\n",
        "def my_bin_adder(b1, b2):\n",
        "    # This code makes both lists the same lengths.#\n",
        "    if len(b1) < len(b2):\n",
        "      b1 = (b1 + [0]*(len(b2) - len(b1)))\n",
        "      b1.reverse()\n",
        "    else:\n",
        "      b2 = (b2 + [0]*(len(b1) - len(b2)))\n",
        "      b2.reverse()\n",
        "    b = (np.array(b1) + np.array(b2)).tolist()\n",
        "    while 2 in b:\n",
        "      for idx, x in enumerate(b):\n",
        "        if x == 2:\n",
        "          b[idx] = b[idx] - 2\n",
        "          if idx != 0:\n",
        "            b[idx - 1] = b[idx - 1] + 1\n",
        "          else:\n",
        "            b.insert(0, 1)\n",
        "\n",
        "    return b\n",
        "\n",
        "# Testing #\n",
        "print(my_bin_adder([1,1,0,1,0,1,1,0,1,0,0,0,0,0], [1,1,1,1,1,1,1,1,1,0,0]))\n",
        "\n",
        "## Test Cases ##\n",
        "# Expected Output = [1, 0, 0, 0, 0, 0] #\n",
        "print(\"1.\",my_bin_adder([1, 1, 1, 1, 1], [1]))\n",
        "\n",
        "# Expected Output = [1, 1, 1, 0, 0, 1, 1] #\n",
        "print(\"2.\",my_bin_adder([1, 1, 1, 1, 1], [1, 0, 1, 0, 1, 0, 0]))\n",
        "\n",
        "# Expected Output = [1, 0, 1, 1] #\n",
        "print(\"3.\",my_bin_adder([1, 1, 0], [1, 0, 1]))\n"
      ],
      "metadata": {
        "colab": {
          "base_uri": "https://localhost:8080/"
        },
        "id": "KhgHOC0l9dyw",
        "outputId": "2e3b6569-dd6c-4f31-8bfb-67e2c078e230"
      },
      "execution_count": 154,
      "outputs": [
        {
          "output_type": "stream",
          "name": "stdout",
          "text": [
            "[1, 1, 0, 1, 1, 1, 1, 0, 0, 1, 1, 1, 1, 1]\n",
            "[1, 0, 0, 0, 0, 0]\n",
            "[1, 1, 1, 0, 0, 1, 1]\n",
            "[1, 0, 1, 1]\n"
          ]
        }
      ]
    },
    {
      "cell_type": "markdown",
      "source": [
        "Problem 5"
      ],
      "metadata": {
        "id": "IgQ4v4wW96nU"
      }
    },
    {
      "cell_type": "markdown",
      "source": [
        "\n",
        "Allocating more bits to the fraction increases the precision.\n",
        "\n",
        "Allocating more bits to the charateristic increases the range .\n",
        "\n",
        "More bits to the sign, well I don't think we generally do that as sign is usually only 1 bit."
      ],
      "metadata": {
        "id": "gcJb63KoInYp"
      }
    },
    {
      "cell_type": "markdown",
      "source": [
        "Problem 6"
      ],
      "metadata": {
        "id": "5FU4209P-DP5"
      }
    },
    {
      "cell_type": "code",
      "source": [
        "# Had to get some help with this one #\n",
        "\n",
        "def my_ieee_2_dec(ieee):\n",
        "    # Extracting components from string #\n",
        "    sign_bit = int(ieee[0])\n",
        "    exponent_bits = ieee[1:12]\n",
        "    fraction_bits = ieee[12:]\n",
        "\n",
        "    # Handle cases #\n",
        "    if exponent_bits == '00000000000' and fraction_bits == '0000000000000000000000000000000000000000000000000000':\n",
        "        return 0.0  # Special case for zero\n",
        "\n",
        "    # Calculate the exponent and fraction 3\n",
        "    exponent = int(exponent_bits, 2) - 1023\n",
        "    fraction = 1.0\n",
        "\n",
        "    for i, bit in enumerate(fraction_bits, start=1):\n",
        "        fraction += int(bit) * 2**(-i)\n",
        "\n",
        "    # Applying the sign, exponent, and fraction to calculate the value #\n",
        "    decimal_value = (-1) ** sign_bit * 2 ** exponent * fraction\n",
        "\n",
        "    return decimal_value\n",
        "\n",
        "## Test Cases ##\n",
        "# Expected Output = -48 #\n",
        "print(my_ieee_2_dec(\"1100000001001000000000000000000000000000000000000000000000000000\"))\n",
        "\n",
        "# Expected Output = 3.39999999999999991118215802999 #\n",
        "print(my_ieee_2_dec(\"0100000000001011001100110011001100110011001100110011001100110011\"))"
      ],
      "metadata": {
        "colab": {
          "base_uri": "https://localhost:8080/"
        },
        "id": "OQr38PQpd4ny",
        "outputId": "53b7e839-271d-4631-bd2f-9edc8db0eb19"
      },
      "execution_count": 177,
      "outputs": [
        {
          "output_type": "stream",
          "name": "stdout",
          "text": [
            "-48.0\n",
            "3.4\n"
          ]
        }
      ]
    },
    {
      "cell_type": "markdown",
      "source": [
        "Problem 7"
      ],
      "metadata": {
        "id": "-646xPKg-SEy"
      }
    },
    {
      "cell_type": "code",
      "source": [
        "import struct\n",
        "\n",
        "def my_dec_2_ieee(d):\n",
        "    ieee = format(struct.unpack('!I', struct.pack('!f', d))[0], '032b')\n",
        "    return ieee\n",
        "\n",
        "## Test Cases ##\n",
        "# Expected Output = 0100000000101110010111101010001110011100001100011010010001101000 #\n",
        "print(my_dec_2_ieee(1.518484199625))\n",
        "\n",
        "# Expected Output = 1100000001110011010100100100010010010001001010011000100010010000 #\n",
        "print(my_dec_2_ieee(-309.141740))\n",
        "\n",
        "# Expected Output = 1100000011011000101010010000000000000000000000000000000000000000 #\n",
        "print(my_dec_2_ieee(-25252))\n"
      ],
      "metadata": {
        "colab": {
          "base_uri": "https://localhost:8080/"
        },
        "id": "kNV_hlx_-Shu",
        "outputId": "a0bb54b9-b712-46d5-cac8-74b0658bf891"
      },
      "execution_count": 167,
      "outputs": [
        {
          "output_type": "stream",
          "name": "stdout",
          "text": [
            "00111111110000100101110110110001\n",
            "11000011100110101001001000100101\n",
            "11000110110001010100100000000000\n"
          ]
        }
      ]
    },
    {
      "cell_type": "markdown",
      "source": [
        "Problem 8"
      ],
      "metadata": {
        "id": "waL8oid0-U31"
      }
    },
    {
      "cell_type": "code",
      "source": [
        "def ieee_baby_to_d(sign, characteristic, fraction):\n",
        "    # Calculate the decimal value based on the format #\n",
        "    exponent = int(characteristic, 2) - 1\n",
        "    mantissa = 1 + int(fraction, 2) / 8  # Divide by 2^(number of fraction bits)\n",
        "\n",
        "    # This part deals with the sign #\n",
        "    if sign == '1':\n",
        "        mantissa *= -1\n",
        "\n",
        "    # Calculate the final decimal value #\n",
        "    decimal_value = (-1) ** int(sign) * 2 ** exponent * mantissa\n",
        "\n",
        "    return decimal_value\n",
        "\n",
        "b_test= \"010110\"\n",
        "sign_bit = b_test[0]\n",
        "characteristic_bits = b_test[1:3]\n",
        "fraction_bits = b_test[3:]\n",
        "\n",
        "decimal_value = ieee_baby_to_d(sign_bit, characteristic_bits, fraction_bits)\n",
        "print(decimal_value)"
      ],
      "metadata": {
        "id": "d9V4MCcL-YsT"
      },
      "execution_count": null,
      "outputs": []
    },
    {
      "cell_type": "markdown",
      "source": [
        "Problem 9"
      ],
      "metadata": {
        "id": "Eqh9JWK5-Wp-"
      }
    },
    {
      "cell_type": "markdown",
      "source": [
        "The largest gap is 2 between 0.75.\n",
        "The smallest gap is 0.875 between 0.125."
      ],
      "metadata": {
        "id": "R6r87GD_Sif4"
      }
    },
    {
      "cell_type": "markdown",
      "source": [
        "Problem 10"
      ],
      "metadata": {
        "id": "SSlsXHHLSj66"
      }
    },
    {
      "cell_type": "code",
      "source": [
        "import numpy as np\n",
        "\n",
        "print(\"Smallest gap is =\",np.spacing(1))\n"
      ],
      "metadata": {
        "colab": {
          "base_uri": "https://localhost:8080/"
        },
        "id": "RXm_tOjQSjXE",
        "outputId": "2e3bb868-0e32-4680-c036-8e745e0bb108"
      },
      "execution_count": 160,
      "outputs": [
        {
          "output_type": "stream",
          "name": "stdout",
          "text": [
            "Smallest gap is = 2.220446049250313e-16\n"
          ]
        }
      ]
    },
    {
      "cell_type": "markdown",
      "source": [
        "Problem 11"
      ],
      "metadata": {
        "id": "dnowMe-nTWeF"
      }
    },
    {
      "cell_type": "markdown",
      "source": [],
      "metadata": {
        "id": "RNGDDY_VXEYo"
      }
    },
    {
      "cell_type": "markdown",
      "source": [
        "Problem 12"
      ],
      "metadata": {
        "id": "9QGBPZsVTY1H"
      }
    },
    {
      "cell_type": "markdown",
      "source": [
        "1 1 1 1 1 1 1 1 1 1 1 1 1 is 13 in base 1\n",
        "\n",
        "Adding would append the the two lists.\n",
        "\n",
        "Multiplying would concatenate the representation of the first number as many times as the value of the second number."
      ],
      "metadata": {
        "id": "Ol03ML6vT4oe"
      }
    },
    {
      "cell_type": "markdown",
      "source": [
        "Problem 13"
      ],
      "metadata": {
        "id": "imLSIrpCUrvl"
      }
    },
    {
      "cell_type": "markdown",
      "source": [
        "The highest you can count to on your hands in binary is 1023."
      ],
      "metadata": {
        "id": "hiAa5w26UthQ"
      }
    },
    {
      "cell_type": "markdown",
      "source": [
        "Problem 14"
      ],
      "metadata": {
        "id": "Hpd5MKNNU7zq"
      }
    },
    {
      "cell_type": "markdown",
      "source": [
        "Dividing and multiplying should be akin to move the numbers in binary over to the right when dividing and to the left when multiplying."
      ],
      "metadata": {
        "id": "ljhSoodyV9uC"
      }
    }
  ]
}
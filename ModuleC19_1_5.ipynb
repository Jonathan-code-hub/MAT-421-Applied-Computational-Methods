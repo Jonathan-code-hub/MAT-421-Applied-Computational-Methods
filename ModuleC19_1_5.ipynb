{
  "nbformat": 4,
  "nbformat_minor": 0,
  "metadata": {
    "colab": {
      "provenance": [],
      "authorship_tag": "ABX9TyOcMaHfGBsvCy87X0HHncbl",
      "include_colab_link": true
    },
    "kernelspec": {
      "name": "python3",
      "display_name": "Python 3"
    },
    "language_info": {
      "name": "python"
    }
  },
  "cells": [
    {
      "cell_type": "markdown",
      "metadata": {
        "id": "view-in-github",
        "colab_type": "text"
      },
      "source": [
        "<a href=\"https://colab.research.google.com/github/Jonathan-code-hub/MAT421/blob/main/ModuleC19_1_5.ipynb\" target=\"_parent\"><img src=\"https://colab.research.google.com/assets/colab-badge.svg\" alt=\"Open In Colab\"/></a>"
      ]
    },
    {
      "cell_type": "markdown",
      "source": [],
      "metadata": {
        "id": "L8uk0-T4QvJ_"
      }
    },
    {
      "cell_type": "markdown",
      "source": [
        "Problem 1."
      ],
      "metadata": {
        "id": "Ku93IVEXQuIh"
      }
    },
    {
      "cell_type": "code",
      "execution_count": null,
      "metadata": {
        "colab": {
          "base_uri": "https://localhost:8080/"
        },
        "id": "gF7jhzKIQK1X",
        "outputId": "80de79cb-5b5d-44a2-8ef8-fd54586990d4"
      },
      "outputs": [
        {
          "output_type": "stream",
          "name": "stdout",
          "text": [
            "2.4101422641752297\n"
          ]
        }
      ],
      "source": [
        "import scipy as sp\n",
        "\n",
        "def f(x,n):\n",
        "  return x**(1/n)\n",
        "\n",
        "def my_nth_root(x, n, tol=1e-6):\n",
        "    # Initial Guess #\n",
        "    r = f(x,n)\n",
        "\n",
        "    # Newton-Raphson iteration #\n",
        "    while abs(r**n - x) > tol:\n",
        "        r = r - (r**n - x) / (n * r**(n-1))\n",
        "\n",
        "    return r\n",
        "\n",
        "# Testing #\n",
        "x = 14\n",
        "n = 3\n",
        "tolerance = 1e-8\n",
        "\n",
        "print(my_nth_root(x, n, tolerance))\n"
      ]
    },
    {
      "cell_type": "markdown",
      "source": [
        "Problem 2."
      ],
      "metadata": {
        "id": "Fr8ib2F9RghK"
      }
    },
    {
      "cell_type": "code",
      "source": [
        "def my_fixed_point(f, g, tol, max_iter):\n",
        "    a = 0.0  # Initial lower bound\n",
        "    b = 1.0  # Initial upper bound\n",
        "\n",
        "    for i in range(max_iter):\n",
        "        m = (a + b) / 2\n",
        "\n",
        "        # Check if the root is found #\n",
        "        if abs(f(m) - g(m)) < tol:\n",
        "            return m\n",
        "\n",
        "        # This updates the next iteration #\n",
        "        if (f(a) - g(a)) * (f(m) - g(m)) < 0:\n",
        "            b = m\n",
        "        else:\n",
        "            a = m\n",
        "\n",
        "    # If max_iter iterations are reached without finding a solution, returns an empty list #\n",
        "    return []\n",
        "\n",
        "# Testing #\n",
        "def f(x):\n",
        "    return x**2 - 2\n",
        "\n",
        "def g(x):\n",
        "    return x\n",
        "\n",
        "tolerance = 1e-6\n",
        "max_iterations = 100\n",
        "\n",
        "result = my_fixed_point(f, g, tolerance, max_iterations)\n",
        "print(result)\n"
      ],
      "metadata": {
        "colab": {
          "base_uri": "https://localhost:8080/"
        },
        "id": "lPRhia0ORgBp",
        "outputId": "cda14891-b456-4f13-9165-5dcd8810c6da"
      },
      "execution_count": null,
      "outputs": [
        {
          "output_type": "stream",
          "name": "stdout",
          "text": [
            "[]\n"
          ]
        }
      ]
    },
    {
      "cell_type": "markdown",
      "source": [
        "Problem 3."
      ],
      "metadata": {
        "id": "5yU2JPkJRkxK"
      }
    },
    {
      "cell_type": "markdown",
      "source": [
        "The bisection method fails as when lim x-> 0 from the negative direction we get -∞ and from the positive direction we get +∞. The bisection method fails as these to points depart in opposite directions."
      ],
      "metadata": {
        "id": "eZm6B-pPmBeb"
      }
    },
    {
      "cell_type": "markdown",
      "source": [
        "Problem 4."
      ],
      "metadata": {
        "id": "gtRw7p80RrgF"
      }
    },
    {
      "cell_type": "code",
      "source": [
        "import numpy as np\n",
        "\n",
        "def my_bisection(f, a, b, tol):\n",
        "    # Initial estimates for the root and the corresponding error\n",
        "    root_estimates = [(a + b) / 2]\n",
        "    errors = [abs(f(root_estimates[0]))]\n",
        "\n",
        "    while errors[-1] >= tol:\n",
        "        # Determine the midpoint of the interval [a, b]\n",
        "        c = (a + b) / 2\n",
        "\n",
        "        # Update the interval based on the sign of f(c)\n",
        "        if f(c) * f(a) < 0:\n",
        "            b = c\n",
        "        else:\n",
        "            a = c\n",
        "\n",
        "        # Append the current estimate and error to the result arrays #\n",
        "        root_estimates.append((a + b) / 2)\n",
        "        errors.append(abs(f(root_estimates[-1])))\n",
        "\n",
        "    return root_estimates, errors\n",
        "\n",
        "# Testing #\n",
        "def function(x):\n",
        "    return x**2 - 4\n",
        "\n",
        "a = 0.0\n",
        "b = 3.0\n",
        "tolerance = 1e-6\n",
        "\n",
        "print(my_bisection(function, a, b, tolerance))\n",
        "# Test Cases #\n",
        "def f(x):\n",
        "   return x**2 - 2\n",
        "print(my_bisection(f, 0, 2, 1e-1)[0])\n",
        "print(my_bisection(f, 0, 2, 1e-1)[1])\n",
        "\n",
        "def f(x):\n",
        "   return np.sin(x) - np.cos(x)\n",
        "\n",
        "print(my_bisection(f, 0, 2, 1e-2)[0])\n",
        "print(my_bisection(f, 0, 2, 1e-2)[1])\n"
      ],
      "metadata": {
        "colab": {
          "base_uri": "https://localhost:8080/"
        },
        "id": "67gtVgnwRqyf",
        "outputId": "cd5cb2f0-cda6-4bb8-b844-afe61e93ae05"
      },
      "execution_count": null,
      "outputs": [
        {
          "output_type": "stream",
          "name": "stdout",
          "text": [
            "([1.5, 2.25, 1.875, 2.0625, 1.96875, 2.015625, 1.9921875, 2.00390625, 1.998046875, 2.0009765625, 1.99951171875, 2.000244140625, 1.9998779296875, 2.00006103515625, 1.999969482421875, 2.0000152587890625, 1.9999923706054688, 2.0000038146972656, 1.9999980926513672, 2.0000009536743164, 1.9999995231628418, 2.000000238418579], [1.75, 1.0625, 0.484375, 0.25390625, 0.1240234375, 0.062744140625, 0.03118896484375, 0.0156402587890625, 0.007808685302734375, 0.003907203674316406, 0.0019528865814208984, 0.0009766221046447754, 0.00048826634883880615, 0.00024414435029029846, 0.00012206938117742538, 6.103538908064365e-05, 3.0517519917339087e-05, 1.525880361441523e-05, 7.629390893271193e-06, 3.814698175119702e-06, 1.9073484054388246e-06, 9.536743732496689e-07])\n",
            "[1.0, 1.5, 1.25, 1.375, 1.4375]\n",
            "[1.0, 0.25, 0.4375, 0.109375, 0.06640625]\n",
            "[1.0, 0.5, 0.75, 0.875, 0.8125, 0.78125]\n",
            "[0.30116867893975674, 0.39815702328616975, 0.050050108850486774, 0.126546644072702, 0.038323093040207756, 0.005866372111545948]\n"
          ]
        }
      ]
    },
    {
      "cell_type": "markdown",
      "source": [
        "Problem 5."
      ],
      "metadata": {
        "id": "pxC0OKlpY3c_"
      }
    },
    {
      "cell_type": "code",
      "source": [
        "import numpy as np\n",
        "\n",
        "def my_newton(f, df, x0, tol):\n",
        "    # Initial estimate for the root and the corresponding error #\n",
        "    root_estimates = [x0]\n",
        "    errors = [abs(f(x0))]\n",
        "\n",
        "    while errors[-1] >= tol:\n",
        "        # Newton-Raphson iteration #\n",
        "        x0 = x0 - f(x0) / df(x0)\n",
        "\n",
        "        # Append the current estimate and error to the result arrays #\n",
        "        root_estimates.append(x0)\n",
        "        errors.append(abs(f(x0)))\n",
        "\n",
        "    return root_estimates, errors\n",
        "\n",
        "# Testing #\n",
        "def function(x):\n",
        "    return x**2 - 4\n",
        "\n",
        "def derivative(x):\n",
        "    return 2 * x\n",
        "\n",
        "initial_estimate = 3.0\n",
        "tolerance = 1e-6\n",
        "\n",
        "root_estimates, errors = my_newton(function, derivative, initial_estimate, tolerance)\n",
        "\n",
        "for i, (root, error) in enumerate(zip(root_estimates, errors)):\n",
        "    print(f\"Iteration {i}: Root estimate = {root}, Error = {error}\")\n",
        "\n",
        "# Test Cases #\n",
        "def f(x):\n",
        "  return x**2 - 2\n",
        "\n",
        "def df(x):\n",
        "  return 2*x\n",
        "\n",
        "print(my_newton(f, df, 1, 1e-5)[0])\n",
        "print(my_newton(f, df, 1, 1e-5)[1])\n",
        "\n",
        "def f(x):\n",
        "  return np.sin(x) - np.cos(x)\n",
        "\n",
        "def df(x):\n",
        "  return np.cos(x) + np.sin(x)\n",
        "\n",
        "print(my_newton(f, df, 1, 1e-5)[0])\n",
        "print(my_newton(f, df, 1, 1e-5)[1])\n"
      ],
      "metadata": {
        "colab": {
          "base_uri": "https://localhost:8080/"
        },
        "id": "1i6ktGy1Y3tR",
        "outputId": "c460269c-fe85-438b-914b-9747050db765"
      },
      "execution_count": null,
      "outputs": [
        {
          "output_type": "stream",
          "name": "stdout",
          "text": [
            "Iteration 0: Root estimate = 3.0, Error = 5.0\n",
            "Iteration 1: Root estimate = 2.1666666666666665, Error = 0.6944444444444438\n",
            "Iteration 2: Root estimate = 2.0064102564102564, Error = 0.02568211702827039\n",
            "Iteration 3: Root estimate = 2.0000102400262145, Error = 4.0960209716445206e-05\n",
            "Iteration 4: Root estimate = 2.000000000026214, Error = 1.0485656787295738e-10\n",
            "[1, 1.5, 1.4166666666666667, 1.4142156862745099]\n",
            "[1, 0.25, 0.006944444444444642, 6.007304882871267e-06]\n",
            "[1, 0.782041901539138, 0.7853981759997019]\n",
            "[0.30116867893975674, 0.004746462127804163, 1.7822277875723103e-08]\n"
          ]
        }
      ]
    }
  ]
}
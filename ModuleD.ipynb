{
  "nbformat": 4,
  "nbformat_minor": 0,
  "metadata": {
    "colab": {
      "provenance": [],
      "authorship_tag": "ABX9TyMYduRaIkZ08uGn6Pu3oxds",
      "include_colab_link": true
    },
    "kernelspec": {
      "name": "python3",
      "display_name": "Python 3"
    },
    "language_info": {
      "name": "python"
    }
  },
  "cells": [
    {
      "cell_type": "markdown",
      "metadata": {
        "id": "view-in-github",
        "colab_type": "text"
      },
      "source": [
        "<a href=\"https://colab.research.google.com/github/Jonathan-code-hub/MAT421/blob/main/ModuleD.ipynb\" target=\"_parent\"><img src=\"https://colab.research.google.com/assets/colab-badge.svg\" alt=\"Open In Colab\"/></a>"
      ]
    },
    {
      "cell_type": "markdown",
      "source": [
        "![Screenshot 2024-02-11 215800.png](data:image/png;base64,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)\n",
        "Problem 1."
      ],
      "metadata": {
        "id": "vhrfbTkNxnJQ"
      }
    },
    {
      "cell_type": "markdown",
      "source": [
        "\n",
        "(3-Λ)(3-Λ)-2*5 = 0"
      ],
      "metadata": {
        "id": "8IyuE8WUlrqI"
      }
    },
    {
      "cell_type": "markdown",
      "source": [
        "Problem 2. Find the eigenvalues and vectors for problem 1."
      ],
      "metadata": {
        "id": "fNxYRYKpr5sj"
      }
    },
    {
      "cell_type": "markdown",
      "source": [
        "Λ = 3 ± (10)^{1/2}\n",
        "\n",
        "Λ_+ , Λ_- ((10)^{1/2}/5 , 1),(-(10)^{1/2}/5 , 1)"
      ],
      "metadata": {
        "id": "iAOe3-RTsZ6c"
      }
    },
    {
      "cell_type": "markdown",
      "source": [
        "Probem 3. Verify the eigenvalues and vectors"
      ],
      "metadata": {
        "id": "farze00uDudo"
      }
    },
    {
      "cell_type": "code",
      "source": [
        "import numpy as np\n",
        "\n",
        "a = np.array([[3,2],[5,3]])\n",
        "v = np.array([[np.sqrt(10)/5],[1]])\n",
        "l = (np.sqrt(10)+3)\n",
        "\n",
        "# If these match we have the correct values #\n",
        "print(np.matmul(a,v))\n",
        "print(l * v)\n",
        "\n",
        "# Here are the eigenvalues and vector with built in numpy function #\n",
        "print(np.linalg.eig(a)[0])\n",
        "print(np.linalg.eig(a)[1])\n"
      ],
      "metadata": {
        "colab": {
          "base_uri": "https://localhost:8080/"
        },
        "id": "F5d3ac3-tlBo",
        "outputId": "6b6b2dae-eba5-4ffb-81c9-ae808d907d45"
      },
      "execution_count": null,
      "outputs": [
        {
          "output_type": "stream",
          "name": "stdout",
          "text": [
            "[[3.8973666 ]\n",
            " [6.16227766]]\n",
            "[[3.8973666 ]\n",
            " [6.16227766]]\n",
            "[ 6.16227766 -0.16227766]\n",
            "[[ 0.53452248 -0.53452248]\n",
            " [ 0.84515425  0.84515425]]\n"
          ]
        }
      ]
    },
    {
      "cell_type": "markdown",
      "source": [
        "Problem 4."
      ],
      "metadata": {
        "id": "PvHLPnUP1AER"
      }
    },
    {
      "cell_type": "code",
      "source": [
        "import numpy as np\n",
        "\n",
        "def power_iteration(matrix,x, num_iterations=1000, tol=1e-10):\n",
        "\n",
        "    \"\"\"\n",
        "    Perform power iteration to find the dominant eigenvalue and eigenvector of a square matrix.\n",
        "\n",
        "    Parameters:\n",
        "    - matrix: numpy array, the square matrix for which to find the dominant eigenvalue and eigenvector\n",
        "    - x: an intial vector guess\n",
        "    - num_iterations: int, maximum number of iterations\n",
        "    - tol: float, convergence tolerance\n",
        "\n",
        "    Returns:\n",
        "    - eigenvalue: float, dominant eigenvalue of the matrix\n",
        "    - eigenvector: numpy array, corresponding eigenvector\n",
        "    \"\"\"\n",
        "\n",
        "    for _ in range(num_iterations):\n",
        "        # Perform matrix-vector multiplication #\n",
        "        y = np.dot(matrix, x)\n",
        "\n",
        "        # Normalize the resulting vector #\n",
        "        eigenvalue = np.linalg.norm(y)\n",
        "        x = y / eigenvalue\n",
        "\n",
        "        # Check for convergence #\n",
        "        if np.linalg.norm(np.dot(matrix, x) - eigenvalue * x) < tol:\n",
        "            break\n",
        "\n",
        "    return eigenvalue, x\n",
        "\n",
        "\n",
        "A = np.array([[2, 1, 2], [1, 3, 2], [2, 4, 1]])\n",
        "x = np.array ([1,1,1])\n",
        "    # Find dominant eigenvalue and eigenvector #\n",
        "eigenvalue, eigenvector = power_iteration(A, x, 8)\n",
        "\n",
        "print(\"Dominant eigenvalue:\", eigenvalue)\n",
        "print(\"Corresponding eigenvector:\", eigenvector)"
      ],
      "metadata": {
        "colab": {
          "base_uri": "https://localhost:8080/"
        },
        "id": "6fHNNJme1rWB",
        "outputId": "5d3994f9-8aae-4ccf-8566-91fbd1252462"
      },
      "execution_count": null,
      "outputs": [
        {
          "output_type": "stream",
          "name": "stdout",
          "text": [
            "Dominant eigenvalue: 6.02910724982892\n",
            "Corresponding eigenvector: [0.4718582  0.58896955 0.65609809]\n"
          ]
        }
      ]
    },
    {
      "cell_type": "markdown",
      "source": [
        "Problem 5."
      ],
      "metadata": {
        "id": "BRiECtFF3uVn"
      }
    },
    {
      "cell_type": "code",
      "source": [
        "def smallest_power_iteration(matrix, x, num_iterations=1000, tolerance=1e-10):\n",
        "    \"\"\"\n",
        "    Perform power iteration to find the smallest eigenvalue and eigenvector of a square matrix.\n",
        "\n",
        "    Parameters:\n",
        "    - matrix: numpy array, the square matrix for which to find the smallest eigenvalue and eigenvector\n",
        "    - x: an intial vector guess\n",
        "    - num_iterations: int, maximum number of iterations\n",
        "    - tolerance: float, convergence tolerance\n",
        "\n",
        "    Returns:\n",
        "    - eigenvalue: float, smallest eigenvalue of the matrix\n",
        "    - eigenvector: numpy array, corresponding eigenvector\n",
        "    \"\"\"\n",
        "    # Start with a random vector\n",
        "    n = matrix.shape[0]\n",
        "    x = np.random.rand(n)\n",
        "\n",
        "    for _ in range(num_iterations):\n",
        "        # Perform matrix-vector multiplication #\n",
        "        y = np.linalg.solve(matrix, x)  # Solve Ax = y for x, where A is the matrix #\n",
        "\n",
        "        # Normalize the resulting vector #\n",
        "        eigenvalue = np.linalg.norm(y)\n",
        "        x = y / eigenvalue\n",
        "\n",
        "        # Check for convergence $\n",
        "        if np.linalg.norm(np.dot(matrix, x) - eigenvalue * x) < tolerance:\n",
        "            break\n",
        "\n",
        "    # Inverse the eigenvalue since we're dealing with the inverse matrix #\n",
        "    smallest_eigenvalue = 1 / eigenvalue\n",
        "    return smallest_eigenvalue, x\n",
        "\n",
        "# Testing #\n",
        "A = np.array([[2, 1, 2], [1, 3, 2], [2, 4, 1]])\n",
        "x = np.array ([1,1,1])\n",
        "\n",
        "# Find smallest eigenvalue and eigenvector #\n",
        "smallest_eigenvalue, eigenvector = smallest_power_iteration(A, x)\n",
        "\n",
        "print(\"Smallest eigenvalue:\", smallest_eigenvalue)\n",
        "print(\"Corresponding eigenvector:\", eigenvector)"
      ],
      "metadata": {
        "colab": {
          "base_uri": "https://localhost:8080/"
        },
        "id": "ixXg2aKh31yG",
        "outputId": "cb9a4b25-a5b5-418d-c0ad-f149642d68cc"
      },
      "execution_count": null,
      "outputs": [
        {
          "output_type": "stream",
          "name": "stdout",
          "text": [
            "Smallest eigenvalue: 1.0\n",
            "Corresponding eigenvector: [2.77204648e-11 7.07106781e-01 7.07106781e-01]\n"
          ]
        }
      ]
    },
    {
      "cell_type": "markdown",
      "source": [
        "Problem 6."
      ],
      "metadata": {
        "id": "xXsAkzuK5OnK"
      }
    },
    {
      "cell_type": "code",
      "source": [
        "import numpy as np\n",
        "\n",
        "def qr_decomposition(A):\n",
        "    \"\"\"\n",
        "    Perform QR decomposition of a matrix using the Gram-Schmidt process.\n",
        "\n",
        "    Parameters:\n",
        "    - A: numpy array, the matrix to be decomposed\n",
        "\n",
        "    Returns:\n",
        "    - Q: numpy array, orthogonal matrix\n",
        "    - R: numpy array, upper triangular matrix\n",
        "    \"\"\"\n",
        "    A = A.astype(np.float64)\n",
        "    m, n = A.shape\n",
        "    Q = np.zeros((m, n))\n",
        "    R = np.zeros((n, n))\n",
        "\n",
        "    for j in range(n):\n",
        "        v = A[:, j]\n",
        "        for i in range(j):\n",
        "            R[i, j] = np.dot(Q[:, i], A[:, j])\n",
        "            v -= R[i, j] * Q[:, i]\n",
        "        R[j, j] = np.linalg.norm(v)\n",
        "        Q[:, j] = v / R[j, j]\n",
        "\n",
        "    return Q, R\n",
        "\n",
        "# Example matrix #\n",
        "A = np.array([[2, 1, 2], [1, 3, 2], [2, 4, 1]])\n",
        "\n",
        "# Perform QR decomposition #\n",
        "Q, R = qr_decomposition(A)\n",
        "\n",
        "print(\"Q:\")\n",
        "print(Q)\n",
        "print(\"R:\")\n",
        "print(R)\n",
        "print(\"QR:\")\n",
        "print(Q*R)"
      ],
      "metadata": {
        "colab": {
          "base_uri": "https://localhost:8080/"
        },
        "id": "rZxfiR5C5N4b",
        "outputId": "123a2a70-d4ef-4a2d-a2c1-c31f0b605038"
      },
      "execution_count": null,
      "outputs": [
        {
          "output_type": "stream",
          "name": "stdout",
          "text": [
            "Q:\n",
            "[[ 0.66666667 -0.7028635   0.24806947]\n",
            " [ 0.33333333  0.57882876  0.74420841]\n",
            " [ 0.66666667  0.41344912 -0.62017367]]\n",
            "R:\n",
            "[[3.         4.33333333 2.66666667]\n",
            " [0.         2.68741925 0.16537965]\n",
            " [0.         0.         1.36438208]]\n",
            "QR:\n",
            "[[ 2.         -3.04574182  0.66151858]\n",
            " [ 0.          1.55555556  0.12307692]\n",
            " [ 0.          0.         -0.84615385]]\n"
          ]
        }
      ]
    }
  ]
}
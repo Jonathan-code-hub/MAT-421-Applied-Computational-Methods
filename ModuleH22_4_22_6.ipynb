{
  "nbformat": 4,
  "nbformat_minor": 0,
  "metadata": {
    "colab": {
      "provenance": [],
      "authorship_tag": "ABX9TyNBFqm9Vk3C9d1T8SUFlgLp",
      "include_colab_link": true
    },
    "kernelspec": {
      "name": "python3",
      "display_name": "Python 3"
    },
    "language_info": {
      "name": "python"
    }
  },
  "cells": [
    {
      "cell_type": "markdown",
      "metadata": {
        "id": "view-in-github",
        "colab_type": "text"
      },
      "source": [
        "<a href=\"https://colab.research.google.com/github/Jonathan-code-hub/MAT421/blob/main/ModuleH22_4_22_6.ipynb\" target=\"_parent\"><img src=\"https://colab.research.google.com/assets/colab-badge.svg\" alt=\"Open In Colab\"/></a>"
      ]
    },
    {
      "cell_type": "markdown",
      "source": [
        "1. Describe the difference between boundary value problems and the initial value problems in ODE.\n",
        "\n",
        "Intial value problems look at conditions at a single or multiple points.\n",
        "Boundary value problems look at specified conditions at different points within a domain.\n",
        "\n",
        "IVPs are typically used to describe dynamic systems where the evolution of the system is determined by its initial state.\n",
        "While BVPs are more commonly used in steady-state problems or problems defined over a finite domain where boundary conditions play a crucial role."
      ],
      "metadata": {
        "id": "ciBWGFjb7OAt"
      }
    },
    {
      "cell_type": "markdown",
      "source": [
        "2. Try to describe the intuition behind the shooting method and how it links to the initial value problems.\n",
        "\n",
        "\n",
        "The shooting method is a numerical technique used to solve boundary value problems (BVPs) by transforming them into a sequence of initial value problems (IVPs). The intuition behind the shooting method can be understood through its analogy to aiming at a target.\n",
        "Where You know the starting position (where you shoot from) and the desired ending position (the target). However, you don't know the initial velocity or angle required to precisely hit the target. So, what do you do? You take a guess and observe."
      ],
      "metadata": {
        "id": "TCsBTESI8ubc"
      }
    },
    {
      "cell_type": "markdown",
      "source": [
        "3. What is the finite difference method for boundary value problems? How to solve it?\n",
        "\n",
        "The finite difference method (FDM) is a numerical technique used to solve differential equations, particularly boundary value problems (BVPs).\n",
        "\n",
        "Divide the domain of the problem into a finite number of discrete points or nodes. Replace the derivatives in the original differential equation with finite difference approximations. Use the finite difference approximations to discretize the original differential equation. Incorporate the boundary conditions into the system of algebraic equations. Solve the resulting system of algebraic equations."
      ],
      "metadata": {
        "id": "QG1GPnDX8zPN"
      }
    },
    {
      "cell_type": "markdown",
      "source": [
        "5. Solve the following ODE with y(0)=0\n",
        " and y(π)=0:\n",
        "\n",
        " $y′′+sin(y)+1=0$\n"
      ],
      "metadata": {
        "id": "_uZHfWKgGQ1I"
      }
    },
    {
      "cell_type": "code",
      "source": [
        "import numpy as np\n",
        "from scipy.integrate import solve_ivp\n",
        "\n",
        "def ode_system(t, y):\n",
        "    y1, y2 = y\n",
        "    dydt = [y2, -np.sin(y1) - 1]\n",
        "    return dydt\n",
        "\n",
        "def shooting_method(y2_guess):\n",
        "    t_span = [0, np.pi]\n",
        "    y0 = [0, y2_guess]\n",
        "    sol = solve_ivp(ode_system, t_span, y0, method='RK45', dense_output=True)\n",
        "    return sol.sol\n",
        "\n",
        "def find_root(func, a, b, tol=1e-6):\n",
        "    while (b - a) / 2 > tol:\n",
        "        mid = (a + b) / 2\n",
        "        if func(mid) == 0:\n",
        "            return mid\n",
        "        elif func(a) * func(mid) < 0:\n",
        "            b = mid\n",
        "        else:\n",
        "            a = mid\n",
        "    return (a + b) / 2\n",
        "\n",
        "def objective_function(y2_guess):\n",
        "    y_at_pi = shooting_method(y2_guess)(np.pi)[0]\n",
        "    return y_at_pi\n",
        "\n",
        "y2_guess = find_root(objective_function, -2, 2)\n",
        "print(\"Initial guess for y2(0):\", y2_guess)\n",
        "\n",
        "# Solve the ODE with the initial condition #\n",
        "solution = shooting_method(y2_guess)\n",
        "\n",
        "# Plotting #\n",
        "import matplotlib.pyplot as plt\n",
        "t = np.linspace(0, np.pi, 100)\n",
        "y = solution(t)[0]\n",
        "plt.plot(t, y)\n",
        "plt.xlabel('t')\n",
        "plt.ylabel('y(t)')\n",
        "plt.title('Solution of the ODE')\n",
        "plt.grid(True)\n",
        "plt.show()"
      ],
      "metadata": {
        "colab": {
          "base_uri": "https://localhost:8080/",
          "height": 490
        },
        "id": "Y3EL6LaIH5rh",
        "outputId": "bf8a133b-b140-40a0-cf2d-400fdfe8012d"
      },
      "execution_count": null,
      "outputs": [
        {
          "output_type": "stream",
          "name": "stdout",
          "text": [
            "Initial guess for y2(0): 1.9999990463256836\n"
          ]
        },
        {
          "output_type": "display_data",
          "data": {
            "text/plain": [
              "<Figure size 640x480 with 1 Axes>"
            ],
            "image/png": "[encoded data removed]"
          },
          "metadata": {}
        }
      ]
    },
    {
      "cell_type": "markdown",
      "source": [
        "6. Given the ODE with the boundary conditions y(0)=0\n",
        " and y(12)=0\n",
        ", $y′′+0.5x2−6x=0$\n",
        "what′s the value of\n",
        "y’(0)?"
      ],
      "metadata": {
        "id": "mZ_sSPW4I6ue"
      }
    },
    {
      "cell_type": "code",
      "source": [
        "import numpy as np\n",
        "from scipy.integrate import solve_ivp\n",
        "\n",
        "def ode_system(x, y):\n",
        "    y1, y2 = y\n",
        "    dydx = [y2, -0.5*x**2 + 6*x]\n",
        "    return dydx\n",
        "\n",
        "# Define x range  #\n",
        "x_span = [0, 12]\n",
        "\n",
        "# Define the initial condition #\n",
        "y_initial = [0, 0]  # y(0) = 0, y'(0) = ?\n",
        "\n",
        "# Solve the ODE #\n",
        "solution = solve_ivp(ode_system, x_span, y_initial, method='RK45', dense_output=True)\n",
        "\n",
        "# Interpolate #\n",
        "y_prime_at_0 = solution.sol(0)[1]\n",
        "\n",
        "print(\"The value of y'(0) is:\", y_prime_at_0)"
      ],
      "metadata": {
        "colab": {
          "base_uri": "https://localhost:8080/"
        },
        "id": "7wSOuIY5I7MQ",
        "outputId": "e52166f4-2f48-48b2-e036-ff0dacbb2b2d"
      },
      "execution_count": null,
      "outputs": [
        {
          "output_type": "stream",
          "name": "stdout",
          "text": [
            "The value of y'(0) is: 0.0\n"
          ]
        }
      ]
    }
  ]
}